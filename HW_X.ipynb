{
 "cells": [
  {
   "cell_type": "markdown",
   "metadata": {
    "id": "g1hQiFW7isGe"
   },
   "source": [
    "# Итоговая работа."
   ]
  },
  {
   "cell_type": "code",
   "execution_count": 1,
   "metadata": {
    "id": "NyZ7GotDi1Mp"
   },
   "outputs": [],
   "source": [
    "import matplotlib.pyplot as plt\n",
    "import numpy as np\n",
    "import math\n",
    "import pandas as pd\n",
    "import sympy as sym\n",
    "import seaborn as sns\n",
    "\n",
    "from sklearn.metrics import pairwise_distances\n",
    "from scipy.optimize import minimize\n",
    "%matplotlib inline"
   ]
  },
  {
   "cell_type": "markdown",
   "metadata": {
    "id": "VZFf_auXisJd"
   },
   "source": [
    "## Задание 1"
   ]
  },
  {
   "cell_type": "markdown",
   "metadata": {
    "id": "ABMPXsuhisMO"
   },
   "source": [
    "Дана матрица рейтингов фильмов (строки - пользователи (10 человек), столбцы - фильмы (15 фильмов))"
   ]
  },
  {
   "cell_type": "code",
   "execution_count": 2,
   "metadata": {
    "id": "D4_Vshevi-4P"
   },
   "outputs": [],
   "source": [
    "raitings = np.array([[ 4,  4,  9,  4,  1,  6, 10,  7,  9,  6,  9,  2,  8,  6,  6],\n",
    "                     [ 9,  2,  5, 10,  7,  8, 10,  5,  6,  2,  1,  6,  8,  9,  7],\n",
    "                     [ 1,  6,  8,  8,  4,  9,  3,  8, 10,  5,  2,  6,  8,  1,  6],\n",
    "                     [ 6,  1,  9,  7,  7,  9,  2,  3,  5,  1,  6,  6,  3,  2,  7],\n",
    "                     [ 3,  7,  3,  5,  7,  9,  9,  6,  2,  9,  1,  2,  8, 10,  6],\n",
    "                     [ 8,  3,  7,  3,  8,  6,  1,  8,  8,  6,  1,  9,  4, 10,  1],\n",
    "                     [ 9,  8,  4,  8,  8, 10,  6,  1,  1,  2,  9,  5,  2,  7,  2],\n",
    "                     [ 4,  1,  6,  4,  3, 10,  4,  4,  2,  8,  7,  9,  3,  8,  3],\n",
    "                     [ 2,  7,  7,  6, 10,  6,  8,  9,  8,  6, 10,  1,  7, 10,  4],\n",
    "                     [ 5, 10,  8,  8,  9,  7,  2,  9,  9, 10,  8,  8,  8,  6, 10]])"
   ]
  },
  {
   "cell_type": "markdown",
   "metadata": {
    "id": "FuYpBPsTjBVa"
   },
   "source": [
    "**a)** Необходимо найти наиболее похожего пользователя по косинусной метрике для каждого из (ответ: 10 пар вида (x, y), где y - наиболее похожий пользователь на пользователя x).\n",
    "\n",
    "**b)** Предположим, вы захотели сжать признаковые описания пользователя с 15 фильмов, до, скажем, 5-ти признаков, как вы это сделаете?"
   ]
  },
  {
   "cell_type": "code",
   "execution_count": 3,
   "metadata": {},
   "outputs": [],
   "source": [
    "result = []"
   ]
  },
  {
   "cell_type": "code",
   "execution_count": 4,
   "metadata": {},
   "outputs": [],
   "source": [
    "# i - пробегает по каждому пользователю\n",
    "i = 0\n",
    "for i in range(len(raitings)):\n",
    "# j будет пробегать по всем остальным пользователям, при фиксированном i\n",
    "# j_min - номер пользователя с минимальным косинусом относительно выбранного пользователя\n",
    "# range_min - значение минимального косинуса\n",
    "    j = 0\n",
    "    j_min = -1\n",
    "    range_min = 1\n",
    "    for j in range(len(raitings)):\n",
    "        # важно не сравнивать пользователя с самим собой\n",
    "        if i == j:\n",
    "            j += 1\n",
    "        else:\n",
    "            # рассчитываем косинус по стандартной функции\n",
    "            cos_ = np.dot(raitings[i],raitings[j])/(math.sqrt(np.dot(raitings[i],raitings[i]))*\n",
    "                                                    (math.sqrt(np.dot(raitings[j],raitings[j]))))\n",
    "            range_ = math.acos(cos_)\n",
    "            # проверяем на минимальность\n",
    "            if range_ < range_min:\n",
    "                range_min = range_\n",
    "                j_min = j\n",
    "            j += 1\n",
    "    # записываем результат, берем след польхователя\n",
    "    result.append([i, j_min])\n",
    "    i += 1"
   ]
  },
  {
   "cell_type": "code",
   "execution_count": 5,
   "metadata": {},
   "outputs": [
    {
     "data": {
      "text/plain": [
       "[[0, 8],\n",
       " [1, 4],\n",
       " [2, 9],\n",
       " [3, 9],\n",
       " [4, 8],\n",
       " [5, 9],\n",
       " [6, 3],\n",
       " [7, 5],\n",
       " [8, 0],\n",
       " [9, 2]]"
      ]
     },
     "execution_count": 5,
     "metadata": {},
     "output_type": "execute_result"
    }
   ],
   "source": [
    "result"
   ]
  },
  {
   "cell_type": "markdown",
   "metadata": {},
   "source": [
    "### Для уменьшения кол-ва признаков, воспользуемся разложением матрицы"
   ]
  },
  {
   "cell_type": "code",
   "execution_count": 6,
   "metadata": {},
   "outputs": [],
   "source": [
    "from sklearn.decomposition import TruncatedSVD\n",
    "# задаем в переменную метод разложения СВД с 5 компонентами\n",
    "svd = TruncatedSVD(n_components=5)"
   ]
  },
  {
   "cell_type": "code",
   "execution_count": 7,
   "metadata": {},
   "outputs": [],
   "source": [
    "# из массива сделал табличку\n",
    "raitings_df = pd.DataFrame(raitings)"
   ]
  },
  {
   "cell_type": "code",
   "execution_count": 8,
   "metadata": {},
   "outputs": [],
   "source": [
    "# само разложение\n",
    "singukar_value = svd.fit_transform(raitings_df)\n",
    "# преобразование результата в таблицу\n",
    "projected_x = pd.DataFrame(data = singukar_value,\n",
    "                           columns = ['atribute_1', 'atribute_2', 'atribute_3', 'atribute_4', 'atribute_5'])"
   ]
  },
  {
   "cell_type": "code",
   "execution_count": 9,
   "metadata": {},
   "outputs": [
    {
     "data": {
      "text/html": [
       "<div>\n",
       "<style scoped>\n",
       "    .dataframe tbody tr th:only-of-type {\n",
       "        vertical-align: middle;\n",
       "    }\n",
       "\n",
       "    .dataframe tbody tr th {\n",
       "        vertical-align: top;\n",
       "    }\n",
       "\n",
       "    .dataframe thead th {\n",
       "        text-align: right;\n",
       "    }\n",
       "</style>\n",
       "<table border=\"1\" class=\"dataframe\">\n",
       "  <thead>\n",
       "    <tr style=\"text-align: right;\">\n",
       "      <th></th>\n",
       "      <th>atribute_1</th>\n",
       "      <th>atribute_2</th>\n",
       "      <th>atribute_3</th>\n",
       "      <th>atribute_4</th>\n",
       "      <th>atribute_5</th>\n",
       "    </tr>\n",
       "  </thead>\n",
       "  <tbody>\n",
       "    <tr>\n",
       "      <th>0</th>\n",
       "      <td>23.419821</td>\n",
       "      <td>-5.360921</td>\n",
       "      <td>3.831968</td>\n",
       "      <td>-4.069502</td>\n",
       "      <td>1.102673</td>\n",
       "    </tr>\n",
       "    <tr>\n",
       "      <th>1</th>\n",
       "      <td>24.767749</td>\n",
       "      <td>4.521887</td>\n",
       "      <td>1.358160</td>\n",
       "      <td>1.581285</td>\n",
       "      <td>8.599120</td>\n",
       "    </tr>\n",
       "    <tr>\n",
       "      <th>2</th>\n",
       "      <td>22.277286</td>\n",
       "      <td>-6.964920</td>\n",
       "      <td>-4.844615</td>\n",
       "      <td>-0.476616</td>\n",
       "      <td>3.371523</td>\n",
       "    </tr>\n",
       "    <tr>\n",
       "      <th>3</th>\n",
       "      <td>19.425776</td>\n",
       "      <td>2.645752</td>\n",
       "      <td>-6.860140</td>\n",
       "      <td>-4.766048</td>\n",
       "      <td>1.960757</td>\n",
       "    </tr>\n",
       "    <tr>\n",
       "      <th>4</th>\n",
       "      <td>22.814635</td>\n",
       "      <td>0.514641</td>\n",
       "      <td>7.701802</td>\n",
       "      <td>4.423798</td>\n",
       "      <td>1.291242</td>\n",
       "    </tr>\n",
       "    <tr>\n",
       "      <th>5</th>\n",
       "      <td>21.769617</td>\n",
       "      <td>1.942950</td>\n",
       "      <td>-4.569348</td>\n",
       "      <td>8.323065</td>\n",
       "      <td>-2.218874</td>\n",
       "    </tr>\n",
       "    <tr>\n",
       "      <th>6</th>\n",
       "      <td>21.234275</td>\n",
       "      <td>9.780478</td>\n",
       "      <td>1.163403</td>\n",
       "      <td>-4.860745</td>\n",
       "      <td>-2.608155</td>\n",
       "    </tr>\n",
       "    <tr>\n",
       "      <th>7</th>\n",
       "      <td>19.974768</td>\n",
       "      <td>4.000487</td>\n",
       "      <td>-1.674563</td>\n",
       "      <td>1.151235</td>\n",
       "      <td>-3.563717</td>\n",
       "    </tr>\n",
       "    <tr>\n",
       "      <th>8</th>\n",
       "      <td>26.393070</td>\n",
       "      <td>-3.030905</td>\n",
       "      <td>5.864228</td>\n",
       "      <td>-1.675035</td>\n",
       "      <td>-3.715001</td>\n",
       "    </tr>\n",
       "    <tr>\n",
       "      <th>9</th>\n",
       "      <td>29.940168</td>\n",
       "      <td>-4.820123</td>\n",
       "      <td>-3.489124</td>\n",
       "      <td>0.055271</td>\n",
       "      <td>-3.625265</td>\n",
       "    </tr>\n",
       "  </tbody>\n",
       "</table>\n",
       "</div>"
      ],
      "text/plain": [
       "   atribute_1  atribute_2  atribute_3  atribute_4  atribute_5\n",
       "0   23.419821   -5.360921    3.831968   -4.069502    1.102673\n",
       "1   24.767749    4.521887    1.358160    1.581285    8.599120\n",
       "2   22.277286   -6.964920   -4.844615   -0.476616    3.371523\n",
       "3   19.425776    2.645752   -6.860140   -4.766048    1.960757\n",
       "4   22.814635    0.514641    7.701802    4.423798    1.291242\n",
       "5   21.769617    1.942950   -4.569348    8.323065   -2.218874\n",
       "6   21.234275    9.780478    1.163403   -4.860745   -2.608155\n",
       "7   19.974768    4.000487   -1.674563    1.151235   -3.563717\n",
       "8   26.393070   -3.030905    5.864228   -1.675035   -3.715001\n",
       "9   29.940168   -4.820123   -3.489124    0.055271   -3.625265"
      ]
     },
     "execution_count": 9,
     "metadata": {},
     "output_type": "execute_result"
    }
   ],
   "source": [
    "projected_x"
   ]
  },
  {
   "cell_type": "markdown",
   "metadata": {
    "id": "QRJEo5ydjFjG"
   },
   "source": [
    "## Задание 2"
   ]
  },
  {
   "cell_type": "markdown",
   "metadata": {
    "id": "39rGnTIojFlV"
   },
   "source": [
    "\n",
    "Вычислите производную $tg^2(sin(x) + cos(2x+3))$ в точке $x_0=1$ (на python и на бумаге)."
   ]
  },
  {
   "cell_type": "code",
   "execution_count": 10,
   "metadata": {},
   "outputs": [
    {
     "name": "stdout",
     "output_type": "stream",
     "text": [
      "Функция:  tan(sin(x) + cos(2*x + 3))**2\n",
      "Первая производная:  2*(-2*sin(2*x + 3) + cos(x))*(tan(sin(x) + cos(2*x + 3))**2 + 1)*tan(sin(x) + cos(2*x + 3))\n",
      "Значение первой производной в точке х=1:  55.3859176353379\n"
     ]
    }
   ],
   "source": [
    "# create a \"symbol\" called x\n",
    "x = sym.Symbol('x')\n",
    "\n",
    "#Define function\n",
    "f = sym.tan(sym.sin(x)+sym.cos(2*x+3))**2\n",
    "\n",
    "#Calculating Derivative\n",
    "derivative_f1 = f.diff(x)\n",
    "\n",
    "print('Функция: ', f)\n",
    "print('Первая производная: ', f.diff(x))\n",
    "print('Значение первой производной в точке х=1: ', f.diff(x).evalf(subs={'x':1}))"
   ]
  },
  {
   "cell_type": "markdown",
   "metadata": {
    "id": "T1y3_xiwjFpC"
   },
   "source": [
    "## Задание 3"
   ]
  },
  {
   "cell_type": "markdown",
   "metadata": {
    "id": "1EyIA1IQjU7w"
   },
   "source": [
    "Дана функция с неизвестными параметрами a и b, вам также известны значения функции fx в точках x. Найдите оптимальные параметры a, b, минимизирующие абсолютную ошибку **error**."
   ]
  },
  {
   "cell_type": "code",
   "execution_count": 11,
   "metadata": {
    "id": "eoBdc8Pwjhmk"
   },
   "outputs": [],
   "source": [
    "def f(x, a, b):\n",
    "    return np.e**a * np.sin(b*x) + x"
   ]
  },
  {
   "cell_type": "code",
   "execution_count": 12,
   "metadata": {
    "id": "nftvBKK2jho9"
   },
   "outputs": [],
   "source": [
    "x = np.array([0.        , 0.26315789, 0.52631579, 0.78947368, 1.05263158,\n",
    "              1.31578947, 1.57894737, 1.84210526, 2.10526316, 2.36842105,\n",
    "              2.63157895, 2.89473684, 3.15789474, 3.42105263, 3.68421053,\n",
    "              3.94736842, 4.21052632, 4.47368421, 4.73684211, 5.        ])"
   ]
  },
  {
   "cell_type": "code",
   "execution_count": 13,
   "metadata": {
    "id": "Dk9sBWrKjhrH"
   },
   "outputs": [],
   "source": [
    "fx = np.array([  0.        , -12.01819092, -18.90968634, -17.68786571,\n",
    "                -8.7529108 ,   4.27524517,  16.06801336,  21.81250213,\n",
    "                19.22059845,   9.48411207,  -3.22273056, -13.48576488,\n",
    "               -16.91096359, -11.95866834,  -0.58630088,  12.56873816,\n",
    "                22.12489421,  24.20292139,  18.04522521,   6.33211092])"
   ]
  },
  {
   "cell_type": "code",
   "execution_count": 14,
   "metadata": {
    "id": "X_4afDeijht2"
   },
   "outputs": [
    {
     "data": {
      "image/png": "[encoded data removed]",
      "text/plain": [
       "<Figure size 432x288 with 1 Axes>"
      ]
     },
     "metadata": {
      "needs_background": "light"
     },
     "output_type": "display_data"
    }
   ],
   "source": [
    "plt.plot(x, fx)\n",
    "plt.show()"
   ]
  },
  {
   "cell_type": "code",
   "execution_count": 15,
   "metadata": {
    "id": "oXoGpFu0i-6g"
   },
   "outputs": [],
   "source": [
    "def error(params):\n",
    "    return np.sum(np.abs(fx - f(x, params[0], params[1])))"
   ]
  },
  {
   "cell_type": "code",
   "execution_count": 16,
   "metadata": {},
   "outputs": [],
   "source": [
    "res = minimize(error, [0,0], method='COBYLA')"
   ]
  },
  {
   "cell_type": "code",
   "execution_count": 17,
   "metadata": {},
   "outputs": [
    {
     "data": {
      "text/plain": [
       "array([ 3.00000388, -2.49992627])"
      ]
     },
     "execution_count": 17,
     "metadata": {},
     "output_type": "execute_result"
    }
   ],
   "source": [
    "res.x"
   ]
  },
  {
   "cell_type": "code",
   "execution_count": 18,
   "metadata": {},
   "outputs": [
    {
     "data": {
      "text/plain": [
       "0.04807800794774142"
      ]
     },
     "execution_count": 18,
     "metadata": {},
     "output_type": "execute_result"
    }
   ],
   "source": [
    "error(res.x)"
   ]
  },
  {
   "cell_type": "markdown",
   "metadata": {
    "id": "4AXJ_r5UjrY5"
   },
   "source": [
    "## Задание 4"
   ]
  },
  {
   "cell_type": "markdown",
   "metadata": {
    "id": "zRnYGwhXjtQB"
   },
   "source": [
    "Создайте собственную дискретную случайную величину с 20 значениями. Сгенерируйте 1000 выборок размера 50. Посчитайте среднее для каждой выборки. Постройте гистограмму распределения средних."
   ]
  },
  {
   "cell_type": "code",
   "execution_count": 19,
   "metadata": {},
   "outputs": [],
   "source": [
    "#создание случайной величины и ее распределения\n",
    "discret_value = pd.DataFrame([[10, 0.047],\n",
    "                             [11, 0.052],\n",
    "                             [12, 0.0525],\n",
    "                             [13, 0.055],\n",
    "                             [14, 0.057],\n",
    "                             [15, 0.0575],\n",
    "                             [16, 0.058],\n",
    "                             [17, 0.059],\n",
    "                             [18, 0.06],\n",
    "                             [19, 0.062],\n",
    "                             [20, 0.068],\n",
    "                             [21, 0.072],\n",
    "                             [22, 0.062],\n",
    "                             [23, 0.06],\n",
    "                             [24, 0.054],\n",
    "                             [25, 0.04],\n",
    "                             [26, 0.032],\n",
    "                             [27, 0.022],\n",
    "                             [28, 0.01],\n",
    "                             [29, 0.01],\n",
    "                             [30, 0.01]],\n",
    "                             columns=['X','P'])"
   ]
  },
  {
   "cell_type": "code",
   "execution_count": 20,
   "metadata": {},
   "outputs": [],
   "source": [
    "result = []\n",
    "for i in range(1000):\n",
    "    samples = np.random.choice(discret_value.X, size=50)\n",
    "    result.append(samples.mean())"
   ]
  },
  {
   "cell_type": "code",
   "execution_count": 21,
   "metadata": {},
   "outputs": [
    {
     "data": {
      "text/plain": [
       "<AxesSubplot:ylabel='Count'>"
      ]
     },
     "execution_count": 21,
     "metadata": {},
     "output_type": "execute_result"
    },
    {
     "data": {
      "image/png": "[encoded data removed]",
      "text/plain": [
       "<Figure size 432x288 with 1 Axes>"
      ]
     },
     "metadata": {
      "needs_background": "light"
     },
     "output_type": "display_data"
    }
   ],
   "source": [
    "sns.histplot(result)"
   ]
  },
  {
   "cell_type": "markdown",
   "metadata": {
    "id": "KJWpqOvPjt1E"
   },
   "source": [
    "## Задание 5"
   ]
  },
  {
   "cell_type": "markdown",
   "metadata": {
    "id": "48ezmZDMjvIY"
   },
   "source": [
    "Найдите собственные значения и собственные вектора матрицы (на python и на бумаге):"
   ]
  },
  {
   "cell_type": "markdown",
   "metadata": {
    "id": "509GRSXskfQt"
   },
   "source": [
    "\n",
    "\n",
    "```\n",
    "m = np.array([[1, 4],\n",
    "              [1, 1]])\n",
    "print(m)\n",
    "```\n",
    "\n"
   ]
  },
  {
   "cell_type": "code",
   "execution_count": 22,
   "metadata": {},
   "outputs": [
    {
     "name": "stdout",
     "output_type": "stream",
     "text": [
      "[[1 4]\n",
      " [1 1]]\n"
     ]
    }
   ],
   "source": [
    "m = np.array([[1, 4],\n",
    "              [1, 1]])\n",
    "print(m)"
   ]
  },
  {
   "cell_type": "code",
   "execution_count": 23,
   "metadata": {},
   "outputs": [
    {
     "name": "stdout",
     "output_type": "stream",
     "text": [
      "Собственное значение 3.0000000000000004\n",
      "соответствующий ему собственный вектор [0.89442719 0.4472136 ]\n",
      "Собственное значение -0.9999999999999996\n",
      "соответствующий ему собственный вектор [-0.89442719  0.4472136 ]\n"
     ]
    }
   ],
   "source": [
    "w, v = np.linalg.eig(m)\n",
    "for i in range(len(w)):\n",
    "    print(\"Собственное значение \" + str(w[i]))\n",
    "    print(\"соответствующий ему собственный вектор \" + str(v[:,i]))"
   ]
  }
 ],
 "metadata": {
  "colab": {
   "name": "HW_X",
   "provenance": []
  },
  "kernelspec": {
   "display_name": "Python 3",
   "language": "python",
   "name": "python3"
  },
  "language_info": {
   "codemirror_mode": {
    "name": "ipython",
    "version": 3
   },
   "file_extension": ".py",
   "mimetype": "text/x-python",
   "name": "python",
   "nbconvert_exporter": "python",
   "pygments_lexer": "ipython3",
   "version": "3.8.4rc1"
  }
 },
 "nbformat": 4,
 "nbformat_minor": 1
}
